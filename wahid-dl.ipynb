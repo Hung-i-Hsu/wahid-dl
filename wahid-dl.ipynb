{
  "nbformat": 4,
  "nbformat_minor": 0,
  "metadata": {
    "colab": {
      "provenance": [],
      "mount_file_id": "1pGxMZhSiEA7iPU8_WU3dRNcGS2ZkZ4rt",
      "authorship_tag": "ABX9TyPbcvC5IOPRYCLvgrF8Bqy4",
      "include_colab_link": true
    },
    "kernelspec": {
      "name": "python3",
      "display_name": "Python 3"
    },
    "language_info": {
      "name": "python"
    }
  },
  "cells": [
    {
      "cell_type": "markdown",
      "metadata": {
        "id": "view-in-github",
        "colab_type": "text"
      },
      "source": [
        "<a href=\"https://colab.research.google.com/github/Hung-i-Hsu/wahid-dl/blob/main/wahid-dl.ipynb\" target=\"_parent\"><img src=\"https://colab.research.google.com/assets/colab-badge.svg\" alt=\"Open In Colab\"/></a>"
      ]
    },
    {
      "cell_type": "markdown",
      "source": [
        "# Wahid Download\n",
        "Build: wahid-dl.v1.0.20230716.googlecolab.1\n",
        "\n",
        "## 使用說明\n",
        "1. 請在Google Colab連線後執行環境設定，並允許存取Google Drive。\n",
        "2. 請依照您想要下載的影片類型執行相應的程式碼區塊。\n",
        "3. 下載的影片、音樂檔案將存到您的Google雲端之wahid-dl資料夾。"
      ],
      "metadata": {
        "id": "WgfhLu22FEdn"
      }
    },
    {
      "cell_type": "code",
      "execution_count": null,
      "metadata": {
        "id": "FCsDIMVbwgAi"
      },
      "outputs": [],
      "source": [
        "# 環境設定\n",
        "import os\n",
        "from google.colab import drive\n",
        "!pip install yt-dlp\n",
        "!pip install ffmpeg\n",
        "drive.mount('/content/MyDrive')\n",
        "!mkdir /content/MyDrive/MyDrive/wahid-dl"
      ]
    },
    {
      "cell_type": "code",
      "source": [
        "# 一般影片專用\n",
        "url=input(\"請輸入欲下載影片之網址：\")\n",
        "!yt-dlp --throttled-rate 100K --embed-thumbnail --add-metadata --merge-output-format mkv {url}\n",
        "!cp *.mkv /content/MyDrive/MyDrive/wahid-dl"
      ],
      "metadata": {
        "id": "jTgOOXmTyIXs"
      },
      "execution_count": null,
      "outputs": []
    },
    {
      "cell_type": "code",
      "source": [
        "# 刪檔直播影片專用\n",
        "url=input(\"請輸入欲下載直播影片之網址：\")\n",
        "!yt-dlp --live-from-start --throttled-rate 100K {url}\n",
        "!cp *.mkv /content/MyDrive/MyDrive/wahid-dl"
      ],
      "metadata": {
        "id": "_26LBYq722yv"
      },
      "execution_count": null,
      "outputs": []
    },
    {
      "cell_type": "code",
      "source": [
        "# 音檔專用\n",
        "url=input(\"請輸入欲下載音檔之網址：\")\n",
        "!yt-dlp --throttled-rate 100K --extract-audio --add-metadata -f \"bestaudio[ext=m4a]\" {url}\n",
        "!cp *.m4a /content/MyDrive/MyDrive/wahid-dl"
      ],
      "metadata": {
        "id": "bci5hzon2d9i"
      },
      "execution_count": null,
      "outputs": []
    },
    {
      "cell_type": "code",
      "source": [
        "# 擷取影片直連專用\n",
        "url=input(\"請輸入欲擷取影片直連之網址：\")\n",
        "!yt-dlp -g {url}"
      ],
      "metadata": {
        "id": "5UCl9nudG2FI"
      },
      "execution_count": null,
      "outputs": []
    }
  ]
}